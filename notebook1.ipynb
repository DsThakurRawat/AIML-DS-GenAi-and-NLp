{
 "cells": [
  {
   "cell_type": "code",
   "execution_count": null,
   "id": "2e4ce11b-6a47-4d72-be37-647b6a9318c9",
   "metadata": {},
   "outputs": [],
   "source": [
    "\"\"\"exploaratory data analysis\n",
    "📊 What is EDA?\n",
    "EDA stands for Exploratory Data Analysis.\n",
    "It’s the process of analyzing datasets visually and statistically to understand their structure, patterns, and relationships before building any machine learning model.\n",
    "Goals of EDA:\n",
    "Understand the dataset\n",
    "\n",
    "Clean missing or wrong data\n",
    "\n",
    "Find patterns, trends, and outliers\n",
    "\n",
    "Visualize distributions and relationships\n",
    "\n",
    "Decide what features to keep or engineer\"\"\""
   ]
  },
  {
   "cell_type": "code",
   "execution_count": null,
   "id": "a41bcf3b-601a-4062-bf12-bc1a55c14f0d",
   "metadata": {},
   "outputs": [],
   "source": [
    "#Load the data\n",
    "import pandas as pd\n",
    "\n",
    "df = pd.read_csv('data.csv')\n",
    "\n",
    "\n",
    "#2. Understand the data\n",
    "\n",
    "\n",
    "df.head()         # See first few rows\n",
    "df.info()         # Data types and missing values\n",
    "df.describe()     # Summary statistics\n",
    "\n",
    "#3. Clean the data\n",
    "\n",
    "\n",
    "df.dropna()       # Remove missing values\n",
    "df.fillna(0)      # Replace missing with 0\n",
    "\n"
   ]
  },
  {
   "cell_type": "code",
   "execution_count": null,
   "id": "30c81023-44a2-4a37-afb6-87d7bf7c4b23",
   "metadata": {},
   "outputs": [],
   "source": [
    "\n",
    "#4. Visualize relationships\n",
    "import seaborn as sns\n",
    "import matplotlib.pyplot as plt\n",
    "\n",
    "sns.heatmap(df.corr(), annot=True)   # Correlation between features\n",
    "sns.boxplot(x='feature', y='target', data=df)  # Outlier detection\n",
    "sns.pairplot(df)                     # Pairwise relationships\n"
   ]
  },
  {
   "cell_type": "code",
   "execution_count": null,
   "id": "98648a16-3962-4ba5-8fa6-00ceb0bc1bff",
   "metadata": {},
   "outputs": [],
   "source": [
    "#5. Distribution of features\n",
    "sns.histplot(df['age'])             # Histogram of age\n",
    "sns.countplot(x='gender', data=df)  # Count by category\n",
    "\n",
    "\n"
   ]
  },
  {
   "cell_type": "code",
   "execution_count": null,
   "id": "1ab053c9-95f0-4c38-ad12-8560bc3be9b7",
   "metadata": {},
   "outputs": [],
   "source": [
    " # Iris Dataset - Full EDA using Python\n",
    "\"\"\"\n",
    "We will:\n",
    "\n",
    "1.Load the dataset\n",
    "\n",
    "2.Understand its structure\n",
    "\n",
    "3.Handle missing values (if any)\n",
    "\n",
    "4.Do statistical analysis\n",
    "\n",
    "5.Visualize relationships between features\n",
    "\n",
    "Prepare for modeling \"\"\"\n",
    "\n"
   ]
  },
  {
   "cell_type": "code",
   "execution_count": null,
   "id": "a75fdc7d-f4ac-4d9a-9120-2ed8996bb80f",
   "metadata": {},
   "outputs": [],
   "source": [
    "#✅ Step 1: Import Libraries and Load Data\n",
    "import pandas as pd\n",
    "import seaborn as sns\n",
    "import matplotlib.pyplot as plt\n",
    "from sklearn.datasets import load_iris\n",
    "\n",
    "# Load dataset\n",
    "iris = load_iris()\n",
    "df = pd.DataFrame(data=iris.data, columns=iris.feature_names)\n",
    "df['species'] = iris.target\n",
    "df['species'] = df['species'].map({i: iris.target_names[i] for i in range(3)})\n",
    "\n",
    "print(df.head())\n"
   ]
  }
 ],
 "metadata": {
  "kernelspec": {
   "display_name": "Python [conda env:base] *",
   "language": "python",
   "name": "conda-base-py"
  },
  "language_info": {
   "codemirror_mode": {
    "name": "ipython",
    "version": 3
   },
   "file_extension": ".py",
   "mimetype": "text/x-python",
   "name": "python",
   "nbconvert_exporter": "python",
   "pygments_lexer": "ipython3",
   "version": "3.12.2"
  }
 },
 "nbformat": 4,
 "nbformat_minor": 5
}
